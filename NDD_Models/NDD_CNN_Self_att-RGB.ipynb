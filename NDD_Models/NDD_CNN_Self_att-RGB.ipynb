{
 "cells": [
  {
   "cell_type": "code",
   "execution_count": 1,
   "id": "ca864e2d-9934-4d92-af4a-215f1875041c",
   "metadata": {},
   "outputs": [],
   "source": [
    "import torch\n",
    "import torch.nn as nn\n",
    "import torch.optim as optim\n",
    "from torch.utils.data import DataLoader, random_split\n",
    "from torchvision import datasets, transforms\n",
    "import numpy as np\n",
    "from tqdm import tqdm\n",
    "import os\n"
   ]
  },
  {
   "cell_type": "code",
   "execution_count": 2,
   "id": "50d9e4e2-84be-4166-a8fe-a9acced6277c",
   "metadata": {},
   "outputs": [],
   "source": [
    "dataset_path = 'NDD_DATASET'  # Replace with your dataset path\n",
    "full_dataset = datasets.ImageFolder(\n",
    "    root=dataset_path,\n",
    "    transform=transforms.Compose([transforms.Resize((224, 224)), transforms.ToTensor()])\n",
    ")"
   ]
  },
  {
   "cell_type": "code",
   "execution_count": 3,
   "id": "630bfa5b-367d-402f-ad69-53d274a283b7",
   "metadata": {},
   "outputs": [
    {
     "name": "stderr",
     "output_type": "stream",
     "text": [
      "100%|█████████████████████████████████████████████████████████████████████████████████████████████████████████████████████| 119/119 [00:09<00:00, 12.06it/s]"
     ]
    },
    {
     "name": "stdout",
     "output_type": "stream",
     "text": [
      "Calculated Mean: tensor([42.1030, 42.1030, 42.1030]), Std: tensor([51.0259, 51.0259, 51.0259])\n"
     ]
    },
    {
     "name": "stderr",
     "output_type": "stream",
     "text": [
      "\n"
     ]
    }
   ],
   "source": [
    "# Calculate mean and std\n",
    "loader = DataLoader(full_dataset, batch_size=64, shuffle=False, num_workers=2)\n",
    "mean = 0.0\n",
    "std = 0.0\n",
    "for images, _ in tqdm(loader):\n",
    "    batch_samples = images.size(0)  # batch size\n",
    "    images = images.view(batch_samples, images.size(1), -1)\n",
    "    mean += images.mean(2).sum(0)\n",
    "    std += images.std(2).sum(0)\n",
    "full_dataset = images\n",
    "mean /= len(full_dataset)\n",
    "std /= len(full_dataset)\n",
    "print(f\"Calculated Mean: {mean}, Std: {std}\")"
   ]
  },
  {
   "cell_type": "code",
   "execution_count": 4,
   "id": "b3635ba8-471e-4f69-9dd0-63653ffd9653",
   "metadata": {},
   "outputs": [],
   "source": [
    "data_transforms = transforms.Compose([\n",
    "    # transforms.Grayscale(num_output_channels=1),\n",
    "    transforms.Grayscale(num_output_channels=3),  # Convert grayscale to 3-channel RGB\n",
    "    transforms.Resize((224, 224)),\n",
    "    transforms.ToTensor(),\n",
    "    transforms.Normalize(mean=[0.5], std=[0.5])\n",
    "])"
   ]
  },
  {
   "cell_type": "code",
   "execution_count": 5,
   "id": "216a8b59-b01a-41a9-b9cd-2322c235c957",
   "metadata": {},
   "outputs": [],
   "source": [
    "full_dataset = datasets.ImageFolder(root=dataset_path, transform=data_transforms)\n"
   ]
  },
  {
   "cell_type": "code",
   "execution_count": 6,
   "id": "e61825f2-6e2e-4a72-aa88-55d44827f326",
   "metadata": {},
   "outputs": [],
   "source": [
    "# Split dataset into train, validation, and test (80:10:10)\n",
    "train_size = int(0.8 * len(full_dataset))\n",
    "val_size = int(0.1 * len(full_dataset))\n",
    "test_size = len(full_dataset) - train_size - val_size\n",
    "train_dataset, val_dataset, test_dataset = random_split(full_dataset, [train_size, val_size, test_size])"
   ]
  },
  {
   "cell_type": "code",
   "execution_count": 7,
   "id": "b2f734ff-34d7-4db5-8d6a-3b6601a39bd2",
   "metadata": {},
   "outputs": [],
   "source": [
    "# DataLoaders\n",
    "train_loader = DataLoader(train_dataset, batch_size=8, shuffle=True, num_workers=4)\n",
    "val_loader = DataLoader(val_dataset, batch_size=8, shuffle=False, num_workers=4)\n",
    "test_loader = DataLoader(test_dataset, batch_size=8, shuffle=False, num_workers=4)"
   ]
  },
  {
   "cell_type": "code",
   "execution_count": 8,
   "id": "35a7b594-bba2-4df2-8d6e-6f95f0e74315",
   "metadata": {},
   "outputs": [],
   "source": [
    "# Self ATT"
   ]
  },
  {
   "cell_type": "code",
   "execution_count": 9,
   "id": "8da56052-3f0a-410e-b7e7-0a5b5255beab",
   "metadata": {},
   "outputs": [],
   "source": [
    "# class SelfAttention(nn.Module):\n",
    "#     def __init__(self, in_channels):\n",
    "#         super(SelfAttention, self).__init__()\n",
    "#         self.query_conv = nn.Conv2d(in_channels, in_channels // 8, kernel_size=1)\n",
    "#         self.key_conv = nn.Conv2d(in_channels, in_channels // 8, kernel_size=1)\n",
    "#         self.value_conv = nn.Conv2d(in_channels, in_channels, kernel_size=1)\n",
    "#         self.gamma = nn.Parameter(torch.zeros(1))  # Trainable scaling factor\n",
    "\n",
    "#     def forward(self, x):\n",
    "#         B, C, H, W = x.size()\n",
    "#         query = self.query_conv(x).view(B, -1, H * W).permute(0, 2, 1)  # B x HW x C'\n",
    "#         key = self.key_conv(x).view(B, -1, H * W)  # B x C' x HW\n",
    "#         attention = torch.softmax(torch.bmm(query, key) / (H * W), dim=-1)  # B x HW x HW\n",
    "#         value = self.value_conv(x).view(B, -1, H * W)  # B x C x HW\n",
    "#         out = torch.bmm(value, attention.permute(0, 2, 1)).view(B, C, H, W)  # B x C x H x W\n",
    "#         return self.gamma * out + x  # Residual connection\n",
    "import torch\n",
    "import torch.nn as nn\n",
    "import torch.nn.functional as F\n",
    "\n",
    "class MRI_SelfAttention(nn.Module):\n",
    "    def __init__(self, channels, reduction=16):\n",
    "        super(MRI_SelfAttention, self).__init__()\n",
    "        # Channel Attention\n",
    "        self.channel_attention = nn.Sequential(\n",
    "            nn.AdaptiveAvgPool2d(1),  # Global average pooling\n",
    "            nn.Conv2d(channels, channels // reduction, kernel_size=1),\n",
    "            nn.ReLU(),\n",
    "            nn.Conv2d(channels // reduction, channels, kernel_size=1),\n",
    "            nn.Sigmoid()\n",
    "        )\n",
    "\n",
    "        # Spatial Attention\n",
    "        self.spatial_attention = nn.Sequential(\n",
    "            nn.Conv2d(2, 1, kernel_size=7, padding=3),  # Aggregating spatial importance\n",
    "            nn.Sigmoid()\n",
    "        )\n",
    "\n",
    "    def forward(self, x):\n",
    "        # Channel Attention\n",
    "        ca = self.channel_attention(x)\n",
    "        x = x * ca\n",
    "\n",
    "        # Spatial Attention\n",
    "        spatial_avg = torch.mean(x, dim=1, keepdim=True)\n",
    "        spatial_max, _ = torch.max(x, dim=1, keepdim=True)\n",
    "        sa = self.spatial_attention(torch.cat([spatial_avg, spatial_max], dim=1))\n",
    "        x = x * sa\n",
    "\n",
    "        return x\n"
   ]
  },
  {
   "cell_type": "code",
   "execution_count": 14,
   "id": "55a244c3-404a-41b7-8e52-ba9f4d9a1a6b",
   "metadata": {},
   "outputs": [],
   "source": [
    "class CNNWithSelfAttention(nn.Module):\n",
    "    def __init__(self):\n",
    "        super(CNNWithSelfAttention, self).__init__()\n",
    "        self.conv_layers = nn.Sequential(\n",
    "            nn.Conv2d(3, 16, kernel_size=3, stride=1, padding=1),  # 3 channels for RGB image\n",
    "            nn.ReLU(),\n",
    "            nn.Conv2d(16, 32, kernel_size=3, stride=1, padding=1),\n",
    "            nn.ReLU(),\n",
    "            nn.MaxPool2d(kernel_size=2, stride=2),\n",
    "\n",
    "            nn.Conv2d(32, 64, kernel_size=3, stride=1, padding=1),\n",
    "            nn.ReLU(),\n",
    "            nn.Conv2d(64, 128, kernel_size=3, stride=1, padding=1),\n",
    "            nn.ReLU(),\n",
    "            nn.MaxPool2d(kernel_size=2, stride=2),\n",
    "\n",
    "            nn.Conv2d(128, 256, kernel_size=3, stride=1, padding=1),\n",
    "            nn.ReLU(),\n",
    "            nn.Conv2d(256, 512, kernel_size=3, stride=1, padding=1),\n",
    "            nn.ReLU(),\n",
    "            nn.MaxPool2d(kernel_size=2, stride=2),\n",
    "\n",
    "            MRI_SelfAttention(512)  # Adding the custom self-attention module\n",
    "        )\n",
    "        self.fc_layers = nn.Sequential(\n",
    "            nn.Flatten(),\n",
    "            nn.Linear(512 * 28 * 28, 1024),\n",
    "            nn.ReLU(),\n",
    "            nn.Dropout(0.3),\n",
    "            nn.Linear(1024, 512),\n",
    "            nn.ReLU(),\n",
    "            nn.Dropout(0.3),\n",
    "            nn.Linear(512, 3)  # 3 classes\n",
    "        )\n",
    "\n",
    "    def forward(self, x):\n",
    "        x = self.conv_layers(x)\n",
    "        x = self.fc_layers(x)\n",
    "        return x\n"
   ]
  },
  {
   "cell_type": "code",
   "execution_count": 15,
   "id": "fabfec6a-88e8-476a-8452-78bd0f2aa571",
   "metadata": {},
   "outputs": [],
   "source": [
    "# Initialize the model\n",
    "num_classes = 3\n",
    "model = CNNWithSelfAttention()\n"
   ]
  },
  {
   "cell_type": "code",
   "execution_count": 16,
   "id": "0f06a285-3914-40f2-92ab-f6a24fb422fb",
   "metadata": {},
   "outputs": [
    {
     "data": {
      "text/plain": [
       "CNNWithSelfAttention(\n",
       "  (conv_layers): Sequential(\n",
       "    (0): Conv2d(3, 16, kernel_size=(3, 3), stride=(1, 1), padding=(1, 1))\n",
       "    (1): ReLU()\n",
       "    (2): Conv2d(16, 32, kernel_size=(3, 3), stride=(1, 1), padding=(1, 1))\n",
       "    (3): ReLU()\n",
       "    (4): MaxPool2d(kernel_size=2, stride=2, padding=0, dilation=1, ceil_mode=False)\n",
       "    (5): Conv2d(32, 64, kernel_size=(3, 3), stride=(1, 1), padding=(1, 1))\n",
       "    (6): ReLU()\n",
       "    (7): Conv2d(64, 128, kernel_size=(3, 3), stride=(1, 1), padding=(1, 1))\n",
       "    (8): ReLU()\n",
       "    (9): MaxPool2d(kernel_size=2, stride=2, padding=0, dilation=1, ceil_mode=False)\n",
       "    (10): Conv2d(128, 256, kernel_size=(3, 3), stride=(1, 1), padding=(1, 1))\n",
       "    (11): ReLU()\n",
       "    (12): Conv2d(256, 512, kernel_size=(3, 3), stride=(1, 1), padding=(1, 1))\n",
       "    (13): ReLU()\n",
       "    (14): MaxPool2d(kernel_size=2, stride=2, padding=0, dilation=1, ceil_mode=False)\n",
       "    (15): MRI_SelfAttention(\n",
       "      (channel_attention): Sequential(\n",
       "        (0): AdaptiveAvgPool2d(output_size=1)\n",
       "        (1): Conv2d(512, 32, kernel_size=(1, 1), stride=(1, 1))\n",
       "        (2): ReLU()\n",
       "        (3): Conv2d(32, 512, kernel_size=(1, 1), stride=(1, 1))\n",
       "        (4): Sigmoid()\n",
       "      )\n",
       "      (spatial_attention): Sequential(\n",
       "        (0): Conv2d(2, 1, kernel_size=(7, 7), stride=(1, 1), padding=(3, 3))\n",
       "        (1): Sigmoid()\n",
       "      )\n",
       "    )\n",
       "  )\n",
       "  (fc_layers): Sequential(\n",
       "    (0): Flatten(start_dim=1, end_dim=-1)\n",
       "    (1): Linear(in_features=401408, out_features=1024, bias=True)\n",
       "    (2): ReLU()\n",
       "    (3): Dropout(p=0.3, inplace=False)\n",
       "    (4): Linear(in_features=1024, out_features=512, bias=True)\n",
       "    (5): ReLU()\n",
       "    (6): Dropout(p=0.3, inplace=False)\n",
       "    (7): Linear(in_features=512, out_features=3, bias=True)\n",
       "  )\n",
       ")"
      ]
     },
     "execution_count": 16,
     "metadata": {},
     "output_type": "execute_result"
    }
   ],
   "source": [
    "# Loss function and optimizer\n",
    "criterion = nn.CrossEntropyLoss()\n",
    "optimizer = optim.Adam(model.parameters(), lr=0.00001)\n",
    "\n",
    "# Early stopping parameters\n",
    "patience = 3\n",
    "best_val_loss = float('inf')\n",
    "patience_counter = 0\n",
    "\n",
    "# Device\n",
    "device = torch.device('cuda' if torch.cuda.is_available() else 'cpu')\n",
    "model.to(device)\n"
   ]
  },
  {
   "cell_type": "code",
   "execution_count": null,
   "id": "2bb13f6f-aeb1-4b54-b7c0-2df6db55e080",
   "metadata": {},
   "outputs": [
    {
     "name": "stdout",
     "output_type": "stream",
     "text": [
      "Epoch 1/100\n"
     ]
    },
    {
     "name": "stderr",
     "output_type": "stream",
     "text": [
      "100%|█████████████████████████████████████████████████████████████████████████████████████████████████████████████████████| 759/759 [00:31<00:00, 24.29it/s]\n"
     ]
    },
    {
     "name": "stdout",
     "output_type": "stream",
     "text": [
      "Train Loss: 0.6682, Train Accuracy: 64.94%\n",
      "Val Loss: 0.5302, Val Accuracy: 73.25%\n",
      "Validation loss decreased (inf → 0.5302). Saving model...\n",
      "Epoch 2/100\n"
     ]
    },
    {
     "name": "stderr",
     "output_type": "stream",
     "text": [
      "100%|█████████████████████████████████████████████████████████████████████████████████████████████████████████████████████| 759/759 [00:30<00:00, 25.22it/s]\n"
     ]
    },
    {
     "name": "stdout",
     "output_type": "stream",
     "text": [
      "Train Loss: 0.5192, Train Accuracy: 73.78%\n",
      "Val Loss: 0.4521, Val Accuracy: 75.89%\n",
      "Validation loss decreased (0.5302 → 0.4521). Saving model...\n",
      "Epoch 3/100\n"
     ]
    },
    {
     "name": "stderr",
     "output_type": "stream",
     "text": [
      "100%|█████████████████████████████████████████████████████████████████████████████████████████████████████████████████████| 759/759 [00:30<00:00, 25.23it/s]\n"
     ]
    },
    {
     "name": "stdout",
     "output_type": "stream",
     "text": [
      "Train Loss: 0.4637, Train Accuracy: 76.86%\n",
      "Val Loss: 0.4065, Val Accuracy: 79.58%\n",
      "Validation loss decreased (0.4521 → 0.4065). Saving model...\n",
      "Epoch 4/100\n"
     ]
    },
    {
     "name": "stderr",
     "output_type": "stream",
     "text": [
      "100%|█████████████████████████████████████████████████████████████████████████████████████████████████████████████████████| 759/759 [00:30<00:00, 25.29it/s]\n"
     ]
    },
    {
     "name": "stdout",
     "output_type": "stream",
     "text": [
      "Train Loss: 0.4255, Train Accuracy: 78.15%\n",
      "Val Loss: 0.3791, Val Accuracy: 82.35%\n",
      "Validation loss decreased (0.4065 → 0.3791). Saving model...\n",
      "Epoch 5/100\n"
     ]
    },
    {
     "name": "stderr",
     "output_type": "stream",
     "text": [
      "100%|█████████████████████████████████████████████████████████████████████████████████████████████████████████████████████| 759/759 [00:30<00:00, 25.25it/s]\n"
     ]
    },
    {
     "name": "stdout",
     "output_type": "stream",
     "text": [
      "Train Loss: 0.3975, Train Accuracy: 80.52%\n",
      "Val Loss: 0.4374, Val Accuracy: 75.89%\n",
      "Patience Counter: 1\n",
      "Epoch 6/100\n"
     ]
    },
    {
     "name": "stderr",
     "output_type": "stream",
     "text": [
      "100%|█████████████████████████████████████████████████████████████████████████████████████████████████████████████████████| 759/759 [00:30<00:00, 25.27it/s]\n"
     ]
    },
    {
     "name": "stdout",
     "output_type": "stream",
     "text": [
      "Train Loss: 0.3815, Train Accuracy: 81.44%\n",
      "Val Loss: 0.3410, Val Accuracy: 84.19%\n",
      "Validation loss decreased (0.3791 → 0.3410). Saving model...\n",
      "Epoch 7/100\n"
     ]
    },
    {
     "name": "stderr",
     "output_type": "stream",
     "text": [
      "100%|█████████████████████████████████████████████████████████████████████████████████████████████████████████████████████| 759/759 [00:30<00:00, 25.28it/s]\n"
     ]
    },
    {
     "name": "stdout",
     "output_type": "stream",
     "text": [
      "Train Loss: 0.3665, Train Accuracy: 82.16%\n",
      "Val Loss: 0.3568, Val Accuracy: 83.79%\n",
      "Patience Counter: 1\n",
      "Epoch 8/100\n"
     ]
    },
    {
     "name": "stderr",
     "output_type": "stream",
     "text": [
      "100%|█████████████████████████████████████████████████████████████████████████████████████████████████████████████████████| 759/759 [00:30<00:00, 25.17it/s]\n"
     ]
    },
    {
     "name": "stdout",
     "output_type": "stream",
     "text": [
      "Train Loss: 0.3608, Train Accuracy: 82.58%\n",
      "Val Loss: 0.3281, Val Accuracy: 85.64%\n",
      "Validation loss decreased (0.3410 → 0.3281). Saving model...\n",
      "Epoch 9/100\n"
     ]
    },
    {
     "name": "stderr",
     "output_type": "stream",
     "text": [
      "100%|█████████████████████████████████████████████████████████████████████████████████████████████████████████████████████| 759/759 [00:30<00:00, 25.23it/s]\n"
     ]
    },
    {
     "name": "stdout",
     "output_type": "stream",
     "text": [
      "Train Loss: 0.3492, Train Accuracy: 83.33%\n",
      "Val Loss: 0.3223, Val Accuracy: 85.64%\n",
      "Validation loss decreased (0.3281 → 0.3223). Saving model...\n",
      "Epoch 10/100\n"
     ]
    },
    {
     "name": "stderr",
     "output_type": "stream",
     "text": [
      "100%|█████████████████████████████████████████████████████████████████████████████████████████████████████████████████████| 759/759 [00:30<00:00, 25.18it/s]\n"
     ]
    },
    {
     "name": "stdout",
     "output_type": "stream",
     "text": [
      "Train Loss: 0.3439, Train Accuracy: 83.51%\n",
      "Val Loss: 0.3838, Val Accuracy: 80.11%\n",
      "Patience Counter: 1\n",
      "Epoch 11/100\n"
     ]
    },
    {
     "name": "stderr",
     "output_type": "stream",
     "text": [
      "100%|█████████████████████████████████████████████████████████████████████████████████████████████████████████████████████| 759/759 [00:30<00:00, 25.15it/s]\n"
     ]
    },
    {
     "name": "stdout",
     "output_type": "stream",
     "text": [
      "Train Loss: 0.3370, Train Accuracy: 83.76%\n",
      "Val Loss: 0.3142, Val Accuracy: 86.17%\n",
      "Validation loss decreased (0.3223 → 0.3142). Saving model...\n",
      "Epoch 12/100\n"
     ]
    },
    {
     "name": "stderr",
     "output_type": "stream",
     "text": [
      "100%|█████████████████████████████████████████████████████████████████████████████████████████████████████████████████████| 759/759 [00:30<00:00, 25.20it/s]\n"
     ]
    },
    {
     "name": "stdout",
     "output_type": "stream",
     "text": [
      "Train Loss: 0.3237, Train Accuracy: 84.62%\n",
      "Val Loss: 0.3236, Val Accuracy: 86.82%\n",
      "Patience Counter: 1\n",
      "Epoch 13/100\n"
     ]
    },
    {
     "name": "stderr",
     "output_type": "stream",
     "text": [
      "100%|█████████████████████████████████████████████████████████████████████████████████████████████████████████████████████| 759/759 [00:30<00:00, 25.08it/s]\n"
     ]
    },
    {
     "name": "stdout",
     "output_type": "stream",
     "text": [
      "Train Loss: 0.3184, Train Accuracy: 85.00%\n",
      "Val Loss: 0.3088, Val Accuracy: 87.48%\n",
      "Validation loss decreased (0.3142 → 0.3088). Saving model...\n",
      "Epoch 14/100\n"
     ]
    },
    {
     "name": "stderr",
     "output_type": "stream",
     "text": [
      "100%|█████████████████████████████████████████████████████████████████████████████████████████████████████████████████████| 759/759 [00:30<00:00, 25.28it/s]\n"
     ]
    },
    {
     "name": "stdout",
     "output_type": "stream",
     "text": [
      "Train Loss: 0.3118, Train Accuracy: 85.54%\n",
      "Val Loss: 0.3075, Val Accuracy: 86.17%\n",
      "Validation loss decreased (0.3088 → 0.3075). Saving model...\n",
      "Epoch 15/100\n"
     ]
    },
    {
     "name": "stderr",
     "output_type": "stream",
     "text": [
      "100%|█████████████████████████████████████████████████████████████████████████████████████████████████████████████████████| 759/759 [00:30<00:00, 25.29it/s]\n"
     ]
    },
    {
     "name": "stdout",
     "output_type": "stream",
     "text": [
      "Train Loss: 0.2974, Train Accuracy: 86.38%\n",
      "Val Loss: 0.2907, Val Accuracy: 87.48%\n",
      "Validation loss decreased (0.3075 → 0.2907). Saving model...\n",
      "Epoch 16/100\n"
     ]
    },
    {
     "name": "stderr",
     "output_type": "stream",
     "text": [
      "100%|█████████████████████████████████████████████████████████████████████████████████████████████████████████████████████| 759/759 [00:30<00:00, 25.23it/s]\n"
     ]
    },
    {
     "name": "stdout",
     "output_type": "stream",
     "text": [
      "Train Loss: 0.2909, Train Accuracy: 86.35%\n",
      "Val Loss: 0.2844, Val Accuracy: 88.27%\n",
      "Validation loss decreased (0.2907 → 0.2844). Saving model...\n",
      "Epoch 17/100\n"
     ]
    },
    {
     "name": "stderr",
     "output_type": "stream",
     "text": [
      "100%|█████████████████████████████████████████████████████████████████████████████████████████████████████████████████████| 759/759 [00:30<00:00, 25.18it/s]\n"
     ]
    },
    {
     "name": "stdout",
     "output_type": "stream",
     "text": [
      "Train Loss: 0.2771, Train Accuracy: 87.45%\n",
      "Val Loss: 0.2966, Val Accuracy: 84.85%\n",
      "Patience Counter: 1\n",
      "Epoch 18/100\n"
     ]
    },
    {
     "name": "stderr",
     "output_type": "stream",
     "text": [
      "100%|█████████████████████████████████████████████████████████████████████████████████████████████████████████████████████| 759/759 [00:29<00:00, 25.33it/s]\n"
     ]
    },
    {
     "name": "stdout",
     "output_type": "stream",
     "text": [
      "Train Loss: 0.2625, Train Accuracy: 88.21%\n",
      "Val Loss: 0.2676, Val Accuracy: 89.72%\n",
      "Validation loss decreased (0.2844 → 0.2676). Saving model...\n",
      "Epoch 19/100\n"
     ]
    },
    {
     "name": "stderr",
     "output_type": "stream",
     "text": [
      "100%|█████████████████████████████████████████████████████████████████████████████████████████████████████████████████████| 759/759 [00:30<00:00, 25.14it/s]\n"
     ]
    },
    {
     "name": "stdout",
     "output_type": "stream",
     "text": [
      "Train Loss: 0.2535, Train Accuracy: 88.47%\n",
      "Val Loss: 0.2681, Val Accuracy: 87.88%\n",
      "Patience Counter: 1\n",
      "Epoch 20/100\n"
     ]
    },
    {
     "name": "stderr",
     "output_type": "stream",
     "text": [
      "100%|█████████████████████████████████████████████████████████████████████████████████████████████████████████████████████| 759/759 [00:30<00:00, 25.10it/s]\n"
     ]
    },
    {
     "name": "stdout",
     "output_type": "stream",
     "text": [
      "Train Loss: 0.2376, Train Accuracy: 89.39%\n",
      "Val Loss: 0.2563, Val Accuracy: 90.38%\n",
      "Validation loss decreased (0.2676 → 0.2563). Saving model...\n",
      "Epoch 21/100\n"
     ]
    },
    {
     "name": "stderr",
     "output_type": "stream",
     "text": [
      "100%|█████████████████████████████████████████████████████████████████████████████████████████████████████████████████████| 759/759 [00:30<00:00, 25.14it/s]\n"
     ]
    },
    {
     "name": "stdout",
     "output_type": "stream",
     "text": [
      "Train Loss: 0.2281, Train Accuracy: 89.89%\n",
      "Val Loss: 0.2547, Val Accuracy: 89.59%\n",
      "Validation loss decreased (0.2563 → 0.2547). Saving model...\n",
      "Epoch 22/100\n"
     ]
    },
    {
     "name": "stderr",
     "output_type": "stream",
     "text": [
      "100%|█████████████████████████████████████████████████████████████████████████████████████████████████████████████████████| 759/759 [00:30<00:00, 25.17it/s]\n"
     ]
    },
    {
     "name": "stdout",
     "output_type": "stream",
     "text": [
      "Train Loss: 0.2125, Train Accuracy: 90.86%\n",
      "Val Loss: 0.2616, Val Accuracy: 87.62%\n",
      "Patience Counter: 1\n",
      "Epoch 23/100\n"
     ]
    },
    {
     "name": "stderr",
     "output_type": "stream",
     "text": [
      "100%|█████████████████████████████████████████████████████████████████████████████████████████████████████████████████████| 759/759 [00:30<00:00, 25.24it/s]\n"
     ]
    },
    {
     "name": "stdout",
     "output_type": "stream",
     "text": [
      "Train Loss: 0.1989, Train Accuracy: 91.83%\n",
      "Val Loss: 0.2351, Val Accuracy: 89.72%\n",
      "Validation loss decreased (0.2547 → 0.2351). Saving model...\n",
      "Epoch 24/100\n"
     ]
    },
    {
     "name": "stderr",
     "output_type": "stream",
     "text": [
      "100%|█████████████████████████████████████████████████████████████████████████████████████████████████████████████████████| 759/759 [00:30<00:00, 25.30it/s]\n"
     ]
    },
    {
     "name": "stdout",
     "output_type": "stream",
     "text": [
      "Train Loss: 0.1903, Train Accuracy: 91.96%\n",
      "Val Loss: 0.2261, Val Accuracy: 90.25%\n",
      "Validation loss decreased (0.2351 → 0.2261). Saving model...\n",
      "Epoch 25/100\n"
     ]
    },
    {
     "name": "stderr",
     "output_type": "stream",
     "text": [
      "100%|█████████████████████████████████████████████████████████████████████████████████████████████████████████████████████| 759/759 [00:30<00:00, 25.13it/s]\n"
     ]
    },
    {
     "name": "stdout",
     "output_type": "stream",
     "text": [
      "Train Loss: 0.1742, Train Accuracy: 92.52%\n",
      "Val Loss: 0.2105, Val Accuracy: 91.17%\n",
      "Validation loss decreased (0.2261 → 0.2105). Saving model...\n",
      "Epoch 26/100\n"
     ]
    },
    {
     "name": "stderr",
     "output_type": "stream",
     "text": [
      "100%|█████████████████████████████████████████████████████████████████████████████████████████████████████████████████████| 759/759 [00:30<00:00, 25.28it/s]\n"
     ]
    },
    {
     "name": "stdout",
     "output_type": "stream",
     "text": [
      "Train Loss: 0.1586, Train Accuracy: 93.26%\n",
      "Val Loss: 0.2221, Val Accuracy: 91.44%\n",
      "Patience Counter: 1\n",
      "Epoch 27/100\n"
     ]
    },
    {
     "name": "stderr",
     "output_type": "stream",
     "text": [
      "100%|█████████████████████████████████████████████████████████████████████████████████████████████████████████████████████| 759/759 [00:29<00:00, 25.33it/s]\n"
     ]
    },
    {
     "name": "stdout",
     "output_type": "stream",
     "text": [
      "Train Loss: 0.1462, Train Accuracy: 94.04%\n",
      "Val Loss: 0.2250, Val Accuracy: 91.44%\n",
      "Patience Counter: 2\n",
      "Epoch 28/100\n"
     ]
    },
    {
     "name": "stderr",
     "output_type": "stream",
     "text": [
      "100%|█████████████████████████████████████████████████████████████████████████████████████████████████████████████████████| 759/759 [00:30<00:00, 25.08it/s]\n"
     ]
    },
    {
     "name": "stdout",
     "output_type": "stream",
     "text": [
      "Train Loss: 0.1341, Train Accuracy: 94.50%\n",
      "Val Loss: 0.1865, Val Accuracy: 92.75%\n",
      "Validation loss decreased (0.2105 → 0.1865). Saving model...\n",
      "Epoch 29/100\n"
     ]
    },
    {
     "name": "stderr",
     "output_type": "stream",
     "text": [
      "100%|█████████████████████████████████████████████████████████████████████████████████████████████████████████████████████| 759/759 [00:30<00:00, 25.18it/s]\n"
     ]
    },
    {
     "name": "stdout",
     "output_type": "stream",
     "text": [
      "Train Loss: 0.1180, Train Accuracy: 95.80%\n",
      "Val Loss: 0.2050, Val Accuracy: 92.23%\n",
      "Patience Counter: 1\n",
      "Epoch 30/100\n"
     ]
    },
    {
     "name": "stderr",
     "output_type": "stream",
     "text": [
      "100%|█████████████████████████████████████████████████████████████████████████████████████████████████████████████████████| 759/759 [00:30<00:00, 25.20it/s]\n"
     ]
    },
    {
     "name": "stdout",
     "output_type": "stream",
     "text": [
      "Train Loss: 0.1025, Train Accuracy: 96.11%\n",
      "Val Loss: 0.1651, Val Accuracy: 94.47%\n",
      "Validation loss decreased (0.1865 → 0.1651). Saving model...\n",
      "Epoch 31/100\n"
     ]
    },
    {
     "name": "stderr",
     "output_type": "stream",
     "text": [
      "100%|█████████████████████████████████████████████████████████████████████████████████████████████████████████████████████| 759/759 [00:30<00:00, 25.17it/s]\n"
     ]
    },
    {
     "name": "stdout",
     "output_type": "stream",
     "text": [
      "Train Loss: 0.0892, Train Accuracy: 96.72%\n",
      "Val Loss: 0.1718, Val Accuracy: 93.81%\n",
      "Patience Counter: 1\n",
      "Epoch 32/100\n"
     ]
    },
    {
     "name": "stderr",
     "output_type": "stream",
     "text": [
      "100%|█████████████████████████████████████████████████████████████████████████████████████████████████████████████████████| 759/759 [00:30<00:00, 25.26it/s]\n"
     ]
    },
    {
     "name": "stdout",
     "output_type": "stream",
     "text": [
      "Train Loss: 0.0772, Train Accuracy: 97.05%\n",
      "Val Loss: 0.1732, Val Accuracy: 93.94%\n",
      "Patience Counter: 2\n",
      "Epoch 33/100\n"
     ]
    },
    {
     "name": "stderr",
     "output_type": "stream",
     "text": [
      "100%|█████████████████████████████████████████████████████████████████████████████████████████████████████████████████████| 759/759 [00:30<00:00, 25.25it/s]\n"
     ]
    },
    {
     "name": "stdout",
     "output_type": "stream",
     "text": [
      "Train Loss: 0.0647, Train Accuracy: 97.73%\n",
      "Val Loss: 0.1758, Val Accuracy: 93.28%\n",
      "Patience Counter: 3\n",
      "Epoch 34/100\n"
     ]
    },
    {
     "name": "stderr",
     "output_type": "stream",
     "text": [
      "100%|█████████████████████████████████████████████████████████████████████████████████████████████████████████████████████| 759/759 [00:30<00:00, 25.22it/s]\n"
     ]
    },
    {
     "name": "stdout",
     "output_type": "stream",
     "text": [
      "Train Loss: 0.0542, Train Accuracy: 97.84%\n",
      "Val Loss: 0.1338, Val Accuracy: 96.05%\n",
      "Validation loss decreased (0.1651 → 0.1338). Saving model...\n",
      "Epoch 35/100\n"
     ]
    },
    {
     "name": "stderr",
     "output_type": "stream",
     "text": [
      "100%|█████████████████████████████████████████████████████████████████████████████████████████████████████████████████████| 759/759 [00:30<00:00, 25.11it/s]\n"
     ]
    },
    {
     "name": "stdout",
     "output_type": "stream",
     "text": [
      "Train Loss: 0.0468, Train Accuracy: 98.35%\n",
      "Val Loss: 0.1610, Val Accuracy: 95.39%\n",
      "Patience Counter: 1\n",
      "Epoch 36/100\n"
     ]
    },
    {
     "name": "stderr",
     "output_type": "stream",
     "text": [
      "100%|█████████████████████████████████████████████████████████████████████████████████████████████████████████████████████| 759/759 [00:30<00:00, 25.24it/s]\n"
     ]
    },
    {
     "name": "stdout",
     "output_type": "stream",
     "text": [
      "Train Loss: 0.0407, Train Accuracy: 98.55%\n",
      "Val Loss: 0.1276, Val Accuracy: 97.10%\n",
      "Validation loss decreased (0.1338 → 0.1276). Saving model...\n",
      "Epoch 37/100\n"
     ]
    },
    {
     "name": "stderr",
     "output_type": "stream",
     "text": [
      "100%|█████████████████████████████████████████████████████████████████████████████████████████████████████████████████████| 759/759 [00:30<00:00, 25.18it/s]\n"
     ]
    },
    {
     "name": "stdout",
     "output_type": "stream",
     "text": [
      "Train Loss: 0.0278, Train Accuracy: 99.08%\n",
      "Val Loss: 0.1255, Val Accuracy: 97.50%\n",
      "Validation loss decreased (0.1276 → 0.1255). Saving model...\n",
      "Epoch 38/100\n"
     ]
    },
    {
     "name": "stderr",
     "output_type": "stream",
     "text": [
      "100%|█████████████████████████████████████████████████████████████████████████████████████████████████████████████████████| 759/759 [00:30<00:00, 25.13it/s]\n"
     ]
    },
    {
     "name": "stdout",
     "output_type": "stream",
     "text": [
      "Train Loss: 0.0266, Train Accuracy: 99.04%\n",
      "Val Loss: 0.1171, Val Accuracy: 97.36%\n",
      "Validation loss decreased (0.1255 → 0.1171). Saving model...\n",
      "Epoch 39/100\n"
     ]
    },
    {
     "name": "stderr",
     "output_type": "stream",
     "text": [
      "100%|█████████████████████████████████████████████████████████████████████████████████████████████████████████████████████| 759/759 [00:30<00:00, 25.20it/s]\n"
     ]
    },
    {
     "name": "stdout",
     "output_type": "stream",
     "text": [
      "Train Loss: 0.0274, Train Accuracy: 99.11%\n",
      "Val Loss: 0.0907, Val Accuracy: 98.16%\n",
      "Validation loss decreased (0.1171 → 0.0907). Saving model...\n",
      "Epoch 40/100\n"
     ]
    },
    {
     "name": "stderr",
     "output_type": "stream",
     "text": [
      "100%|█████████████████████████████████████████████████████████████████████████████████████████████████████████████████████| 759/759 [00:29<00:00, 25.33it/s]\n"
     ]
    },
    {
     "name": "stdout",
     "output_type": "stream",
     "text": [
      "Train Loss: 0.0222, Train Accuracy: 99.29%\n",
      "Val Loss: 0.1106, Val Accuracy: 98.02%\n",
      "Patience Counter: 1\n",
      "Epoch 41/100\n"
     ]
    },
    {
     "name": "stderr",
     "output_type": "stream",
     "text": [
      "100%|█████████████████████████████████████████████████████████████████████████████████████████████████████████████████████| 759/759 [00:30<00:00, 25.00it/s]\n"
     ]
    },
    {
     "name": "stdout",
     "output_type": "stream",
     "text": [
      "Train Loss: 0.0212, Train Accuracy: 99.18%\n",
      "Val Loss: 0.1414, Val Accuracy: 97.50%\n",
      "Patience Counter: 2\n",
      "Epoch 42/100\n"
     ]
    },
    {
     "name": "stderr",
     "output_type": "stream",
     "text": [
      "100%|█████████████████████████████████████████████████████████████████████████████████████████████████████████████████████| 759/759 [00:30<00:00, 25.22it/s]\n"
     ]
    },
    {
     "name": "stdout",
     "output_type": "stream",
     "text": [
      "Train Loss: 0.0172, Train Accuracy: 99.42%\n",
      "Val Loss: 0.1018, Val Accuracy: 97.63%\n",
      "Patience Counter: 3\n",
      "Epoch 43/100\n"
     ]
    },
    {
     "name": "stderr",
     "output_type": "stream",
     "text": [
      " 90%|█████████████████████████████████████████████████████████████████████████████████████████████████████████▌           | 685/759 [00:27<00:02, 25.88it/s]"
     ]
    }
   ],
   "source": [
    "import matplotlib.pyplot as plt\n",
    "\n",
    "best_model_path = \"best_cnn2_self_rgb_model.pth\"\n",
    "num_epochs = 100\n",
    "\n",
    "# Initialize lists to store loss and accuracy values for plotting\n",
    "train_losses = []\n",
    "train_accuracies = []\n",
    "val_losses = []\n",
    "val_accuracies = []\n",
    "\n",
    "best_val_loss = float('inf')  # Initialize best validation loss for early stopping\n",
    "patience_counter = 0\n",
    "patience = 5  # Number of epochs to wait before early stopping\n",
    "\n",
    "for epoch in range(num_epochs):\n",
    "    print(f\"Epoch {epoch+1}/{num_epochs}\")\n",
    "    \n",
    "    # Training phase\n",
    "    model.train()\n",
    "    train_loss = 0.0\n",
    "    train_correct = 0\n",
    "    total_train_samples = 0\n",
    "    for images, labels in tqdm(train_loader):\n",
    "        images, labels = images.to(device), labels.to(device)\n",
    "\n",
    "        # Forward pass\n",
    "        outputs = model(images)\n",
    "        loss = criterion(outputs, labels)\n",
    "\n",
    "        # Backward pass and optimization\n",
    "        optimizer.zero_grad()\n",
    "        loss.backward()\n",
    "        optimizer.step()\n",
    "\n",
    "        train_loss += loss.item()\n",
    "\n",
    "        # Calculate accuracy\n",
    "        _, predicted = torch.max(outputs, 1)\n",
    "        train_correct += (predicted == labels).sum().item()\n",
    "        total_train_samples += labels.size(0)\n",
    "\n",
    "    train_loss /= len(train_loader)\n",
    "    train_accuracy = train_correct / total_train_samples * 100\n",
    "\n",
    "    # Validation phase\n",
    "    model.eval()\n",
    "    val_loss = 0.0\n",
    "    val_correct = 0\n",
    "    total_val_samples = 0\n",
    "    with torch.no_grad():\n",
    "        for images, labels in val_loader:\n",
    "            images, labels = images.to(device), labels.to(device)\n",
    "\n",
    "            outputs = model(images)\n",
    "            loss = criterion(outputs, labels)\n",
    "            val_loss += loss.item()\n",
    "\n",
    "            # Calculate accuracy\n",
    "            _, predicted = torch.max(outputs, 1)\n",
    "            val_correct += (predicted == labels).sum().item()\n",
    "            total_val_samples += labels.size(0)\n",
    "\n",
    "    val_loss /= len(val_loader)\n",
    "    val_accuracy = val_correct / total_val_samples * 100\n",
    "\n",
    "    print(f\"Train Loss: {train_loss:.4f}, Train Accuracy: {train_accuracy:.2f}%\")\n",
    "    print(f\"Val Loss: {val_loss:.4f}, Val Accuracy: {val_accuracy:.2f}%\")\n",
    "\n",
    "    # Store loss and accuracy values for plotting\n",
    "    train_losses.append(train_loss)\n",
    "    train_accuracies.append(train_accuracy)\n",
    "    val_losses.append(val_loss)\n",
    "    val_accuracies.append(val_accuracy)\n",
    "\n",
    "    # Early stopping\n",
    "    if val_loss < best_val_loss:\n",
    "        print(f\"Validation loss decreased ({best_val_loss:.4f} → {val_loss:.4f}). Saving model...\")\n",
    "        torch.save(model.state_dict(), best_model_path)\n",
    "        best_val_loss = val_loss\n",
    "        patience_counter = 0\n",
    "    else:\n",
    "        patience_counter += 1\n",
    "        print(f\"Patience Counter: {patience_counter}\")\n",
    "\n",
    "    if patience_counter >= patience:\n",
    "        print(\"Early stopping triggered!\")\n",
    "        break\n",
    "\n",
    "# Plotting the loss and accuracy curves\n",
    "epochs = range(1, epoch + 2)  # epochs will be from 1 to final epoch\n",
    "\n",
    "# Plot loss\n",
    "plt.figure(figsize=(12, 5))\n",
    "\n",
    "plt.subplot(1, 2, 1)\n",
    "plt.plot(epochs, train_losses, label=\"Train Loss\", color='blue', marker='o')\n",
    "plt.plot(epochs, val_losses, label=\"Val Loss\", color='red', marker='o')\n",
    "plt.xlabel(\"Epochs\")\n",
    "plt.ylabel(\"Loss\")\n",
    "plt.title(\"Loss over Epochs\")\n",
    "plt.legend()\n",
    "\n",
    "# Plot accuracy\n",
    "plt.subplot(1, 2, 2)\n",
    "plt.plot(epochs, train_accuracies, label=\"Train Accuracy\", color='blue', marker='o')\n",
    "plt.plot(epochs, val_accuracies, label=\"Val Accuracy\", color='red', marker='o')\n",
    "plt.xlabel(\"Epochs\")\n",
    "plt.ylabel(\"Accuracy (%)\")\n",
    "plt.title(\"Accuracy over Epochs\")\n",
    "plt.legend()\n",
    "\n",
    "plt.tight_layout()\n",
    "plt.show()\n"
   ]
  },
  {
   "cell_type": "code",
   "execution_count": null,
   "id": "fd814ba5-9048-4b05-a294-27192f93b630",
   "metadata": {},
   "outputs": [],
   "source": [
    "model.load_state_dict(torch.load('best_cnn2_self_rgb_model.pth'))\n",
    "model.eval()"
   ]
  },
  {
   "cell_type": "code",
   "execution_count": null,
   "id": "74a813f5-2b51-4caf-97a6-bf99e966d13c",
   "metadata": {},
   "outputs": [],
   "source": [
    "from sklearn.metrics import classification_report, confusion_matrix, ConfusionMatrixDisplay\n",
    "import matplotlib.pyplot as plt\n",
    "import numpy as np\n"
   ]
  },
  {
   "cell_type": "code",
   "execution_count": null,
   "id": "b9a95241-1df8-4c4d-90eb-7f3dc0da3bb8",
   "metadata": {},
   "outputs": [],
   "source": [
    "# Initialize variables for metrics\n",
    "test_loss = 0.0\n",
    "test_correct = 0\n",
    "total_test_samples = 0\n",
    "all_labels = []\n",
    "all_predictions = []\n",
    "\n",
    "# Testing phase\n",
    "with torch.no_grad():\n",
    "    for images, labels in tqdm(test_loader):\n",
    "        images, labels = images.to(device), labels.to(device)\n",
    "\n",
    "        # Forward pass\n",
    "        outputs = model(images)\n",
    "        loss = criterion(outputs, labels)\n",
    "        test_loss += loss.item()\n",
    "\n",
    "        # Predictions and accuracy\n",
    "        _, predicted = torch.max(outputs, 1)\n",
    "        test_correct += (predicted == labels).sum().item()\n",
    "        total_test_samples += labels.size(0)\n",
    "\n",
    "        # Collect labels and predictions for metrics\n",
    "        all_labels.extend(labels.cpu().numpy())\n",
    "        all_predictions.extend(predicted.cpu().numpy())\n",
    "\n",
    "# Calculate average test loss and accuracy\n",
    "test_loss /= len(test_loader)\n",
    "test_accuracy = test_correct / total_test_samples * 100\n",
    "\n",
    "print(f\"Test Loss: {test_loss:.4f}\")\n",
    "print(f\"Test Accuracy: {test_accuracy:.4f}%\")\n"
   ]
  },
  {
   "cell_type": "code",
   "execution_count": null,
   "id": "8771e4a9-49e1-4c64-945f-730de53e8188",
   "metadata": {},
   "outputs": [],
   "source": [
    "# Classification Report\n",
    "\n",
    "print(\"\\nClassification Report:\")\n",
    "print(classification_report(all_labels, all_predictions, target_names=['alzheimers', 'normal', 'parkinsons']))\n",
    "\n",
    "# Confusion Matrix\n",
    "conf_matrix = confusion_matrix(all_labels, all_predictions)\n",
    "print(\"\\nConfusion Matrix:\")\n",
    "print(conf_matrix)\n",
    "\n",
    "# Plot Confusion Matrix\n",
    "disp = ConfusionMatrixDisplay(confusion_matrix=conf_matrix, display_labels=['alzheimers', 'normal', 'parkinsons'])\n",
    "disp.plot(cmap=plt.cm.Blues)\n",
    "plt.title(\"Confusion Matrix\")\n",
    "plt.show()"
   ]
  },
  {
   "cell_type": "code",
   "execution_count": null,
   "id": "42945baa-9372-4a2f-a177-cbf603382f4b",
   "metadata": {},
   "outputs": [],
   "source": []
  },
  {
   "cell_type": "code",
   "execution_count": null,
   "id": "f5ac86c0-b8db-41b5-8832-4cc92cd78870",
   "metadata": {},
   "outputs": [],
   "source": []
  },
  {
   "cell_type": "code",
   "execution_count": null,
   "id": "25de0666-7b88-4453-a9cb-1300cd2b5f04",
   "metadata": {},
   "outputs": [],
   "source": []
  },
  {
   "cell_type": "code",
   "execution_count": null,
   "id": "770d808f-28c3-444e-8659-737fd4172142",
   "metadata": {},
   "outputs": [],
   "source": []
  },
  {
   "cell_type": "code",
   "execution_count": null,
   "id": "57e6509b-90af-4a97-a66e-0683f0bf2c43",
   "metadata": {},
   "outputs": [],
   "source": []
  }
 ],
 "metadata": {
  "kernelspec": {
   "display_name": "Python 3 (ipykernel)",
   "language": "python",
   "name": "python3"
  },
  "language_info": {
   "codemirror_mode": {
    "name": "ipython",
    "version": 3
   },
   "file_extension": ".py",
   "mimetype": "text/x-python",
   "name": "python",
   "nbconvert_exporter": "python",
   "pygments_lexer": "ipython3",
   "version": "3.12.7"
  }
 },
 "nbformat": 4,
 "nbformat_minor": 5
}
